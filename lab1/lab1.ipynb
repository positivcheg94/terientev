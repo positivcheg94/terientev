{
 "cells": [
  {
   "cell_type": "code",
   "execution_count": null,
   "metadata": {},
   "outputs": [],
   "source": [
    "import numpy as np\n",
    "from collections import OrderedDict"
   ]
  },
  {
   "cell_type": "code",
   "execution_count": null,
   "metadata": {},
   "outputs": [],
   "source": [
    "def calculate_probability(data, name, probs):\n",
    "    if name in probs:\n",
    "        return probs\n",
    "    data_for_name = data[name]\n",
    "    dependencies = data_for_name[0]\n",
    "    if len(dependencies) == 0:\n",
    "        probs[name] = data_for_name[2]\n",
    "        return probs\n",
    "    dependencies_probs = []    \n",
    "    for dep in dependencies:\n",
    "        if dep not in probs:\n",
    "            calculate_probability(data, dep, probs)\n",
    "        dependencies_probs.append(probs[dep])\n",
    "    all_length = np.prod([len(dep) for dep in dependencies_probs])\n",
    "    accumulated = np.ones(all_length)\n",
    "    n_repeats = all_length\n",
    "    n_tails = 1\n",
    "    for dep in dependencies_probs:\n",
    "        n_repeats = n_repeats // len(dep)\n",
    "        accumulated = accumulated * np.tile(np.repeat(dep, n_repeats), n_tails)\n",
    "        n_tails = n_tails * len(dep)\n",
    "    probs[name] = accumulated @ data_for_name[2]\n",
    "    return probs[name]\n",
    "\n",
    "def find_all_dependencies(data, name):\n",
    "    s = OrderedDict()\n",
    "    data_for_name = data[name]\n",
    "    dependencies = data_for_name[0]\n",
    "    for dep in dependencies:\n",
    "        dep_of_dep = find_all_dependencies(data, dep)\n",
    "        s.update(dep_of_dep)\n",
    "        s[dep] = len(data[dep][1][-1])\n",
    "    s[name] = len(data_for_name[1][-1])\n",
    "    return s\n",
    "\n",
    "def calculate_joint_probability(data, names):\n",
    "    s = OrderedDict()\n",
    "    for name in names:\n",
    "        s.update(find_all_dependencies(data, name))\n",
    "    dims = [s[i] for i in s]\n",
    "    s_items = list(s.items())\n",
    "    s_keys = list(s.keys())\n",
    "    joint_probability = np.ones(dims)\n",
    "    for name in s:\n",
    "        data_for_name = data[name]\n",
    "        dependencies = data_for_name[0]\n",
    "        subdims = np.ones(len(dims), dtype=int)\n",
    "        for i in range(len(dims)):\n",
    "            curr_name, curr_val = s_items[i]\n",
    "            if curr_name in dependencies:\n",
    "                subdims[i] = curr_val\n",
    "            \n",
    "        subdims[s_keys.index(name)] = s[name]\n",
    "        prob = np.reshape(data_for_name[2], subdims)\n",
    "        for i in range(len(dims)):\n",
    "            prob.repeat(dims[i]//subdims[i], i)\n",
    "        joint_probability = joint_probability*prob\n",
    "    return joint_probability"
   ]
  },
  {
   "cell_type": "code",
   "execution_count": 3,
   "metadata": {
    "collapsed": true
   },
   "outputs": [],
   "source": [
    "test_model=\\\n",
    "    {\n",
    "        'N1':[\n",
    "            [],\n",
    "            [None, ['S1', 'S2']],\n",
    "            np.array([0.3,0.7])\n",
    "        ],\n",
    "        'N2':[\n",
    "            ['N1'],\n",
    "            [['S1', 'S2'], ['S1', 'S2']],\n",
    "            np.array([[0.3,0.7], [0.5, 0.5]])\n",
    "        ],\n",
    "        'N3':[\n",
    "            ['N1'],\n",
    "            [['S1', 'S2'], ['S1', 'S2']],\n",
    "            np.array([[0.1,0.9], [0.6, 0.4]])\n",
    "        ],\n",
    "        'N4':[\n",
    "            ['N2', 'N3'],\n",
    "            [['S1', 'S2'],['S1', 'S2'],['S1', 'S2']],\n",
    "            np.array([[0.3,0.7], [0.5, 0.5], [0,1], [0.2, 0.8]])\n",
    "        ]\n",
    "    }"
   ]
  },
  {
   "cell_type": "code",
   "execution_count": 4,
   "metadata": {
    "collapsed": true
   },
   "outputs": [],
   "source": [
    "test_model2=\\\n",
    "    {\n",
    "        'S':[\n",
    "            [],\n",
    "            [None, ['0', '1']],\n",
    "            np.array([0.5,0.5])\n",
    "        ],\n",
    "        'C':[\n",
    "            ['S'],\n",
    "            [['0', '1'], ['0', '1']],\n",
    "            np.array([[1,0], [0.6, 0.4]])\n",
    "        ],\n",
    "        'B':[\n",
    "            ['S', 'C'],\n",
    "            [['0', '1'], ['0', '1'], ['0', '1']],\n",
    "            np.array([[0.8,0.2], [0.5, 0.5], [0.67,0.33], [0, 1]])\n",
    "        ],\n",
    "        'D':[\n",
    "            ['B', 'C'],\n",
    "            [['0', '1'], ['0', '1'], ['0', '1']],\n",
    "            np.array([[0.83,0.17], [0.5, 0.5], [0.5, 0.5], [0, 1]])\n",
    "        ],\n",
    "        'E':[\n",
    "            ['B', 'D'],\n",
    "            [['0', '1'], ['0', '1'], ['0', '1']],\n",
    "            np.array([[0.83,0.17], [0.5, 0.5], [0.5, 0.5], [0, 1]])\n",
    "        ]\n",
    "    }"
   ]
  },
  {
   "cell_type": "code",
   "execution_count": 5,
   "metadata": {
    "collapsed": true
   },
   "outputs": [],
   "source": [
    "animals= \\\n",
    "    {\n",
    "        'Animal':[\n",
    "            [],\n",
    "            [None, ['Monkey', 'Penguin', 'Platypus', 'Robin', 'Turtle']],\n",
    "            np.array([0.2, 0.2, 0.2, 0.2, 0.2])\n",
    "        ],\n",
    "        'Environment':[\n",
    "            ['Animal'],\n",
    "            [['Monkey', 'Penguin', 'Platypus', 'Robin', 'Turtle'], ['Air', 'Land', 'Water']],\n",
    "            np.array(\n",
    "                [\n",
    "                    [0, 1, 0],\n",
    "                    [0, 0.5, 0.5],\n",
    "                    [0, 0, 1],\n",
    "                    [0.5, 0.5, 0],\n",
    "                    [0, 0.5, 0.5]\n",
    "                ]\n",
    "            )\n",
    "        ],\n",
    "        'HasShell':\n",
    "        [\n",
    "            ['Animal'],\n",
    "            [['Monkey', 'Penguin', 'Platypus', 'Robin', 'Turtle'], ['True', 'False']],\n",
    "            np.array(\n",
    "                [\n",
    "                    [0, 1],\n",
    "                    [0, 1],\n",
    "                    [0, 1],\n",
    "                    [0, 1],\n",
    "                    [1, 0]\n",
    "                ]\n",
    "            )\n",
    "        ],\n",
    "        'BearsYoungAs':\n",
    "        [\n",
    "            ['Animal'],\n",
    "            [['Monkey', 'Penguin', 'Platypus', 'Robin', 'Turtle'], ['Live', 'Eggs']],\n",
    "            np.array(\n",
    "                [\n",
    "                    [1, 0],\n",
    "                    [0, 1],\n",
    "                    [0, 1],\n",
    "                    [0, 1],\n",
    "                    [0, 1]\n",
    "                ]\n",
    "            )\n",
    "        ],\n",
    "        'Class':\n",
    "        [\n",
    "            ['Animal'],\n",
    "            [['Monkey', 'Penguin', 'Platypus', 'Robin', 'Turtle'], ['Bird', 'Mammal', 'Reptile']],\n",
    "            np.array(\n",
    "                [\n",
    "                    [0, 1, 0],\n",
    "                    [1, 0, 0],\n",
    "                    [0, 1, 0],\n",
    "                    [1, 0, 0],\n",
    "                    [0, 0, 1],\n",
    "                ]\n",
    "            )\n",
    "        ],\n",
    "        'WarmBlooded':\n",
    "        [\n",
    "            ['Class'],\n",
    "            [['Bird', 'Mammal', 'Reptile'], ['True', 'False']],\n",
    "            np.array(\n",
    "                [\n",
    "                    [1, 0],\n",
    "                    [1, 0],\n",
    "                    [0, 1]\n",
    "                ]\n",
    "            )\n",
    "        ],\n",
    "        'BodyCovering':\n",
    "        [\n",
    "            ['Class'],\n",
    "            [['Bird', 'Mammal', 'Reptile'], ['Fur', 'Feathers', 'Scales']],\n",
    "            np.array(\n",
    "                [\n",
    "                    [0, 1, 0],\n",
    "                    [1, 0, 0],\n",
    "                    [0, 0, 1]\n",
    "                ]\n",
    "            )\n",
    "        ]\n",
    "    }"
   ]
  },
  {
   "cell_type": "code",
   "execution_count": 6,
   "metadata": {},
   "outputs": [
    {
     "data": {
      "text/plain": [
       "array([ 0.4,  0.4,  0.2])"
      ]
     },
     "execution_count": 6,
     "metadata": {},
     "output_type": "execute_result"
    }
   ],
   "source": [
    "probs = {}\n",
    "calculate_probability(animals, 'BodyCovering', probs)"
   ]
  },
  {
   "cell_type": "code",
   "execution_count": 7,
   "metadata": {},
   "outputs": [
    {
     "data": {
      "text/plain": [
       "array([ 0.242,  0.758])"
      ]
     },
     "execution_count": 7,
     "metadata": {},
     "output_type": "execute_result"
    }
   ],
   "source": [
    "probs = {}\n",
    "calculate_probability(test_model, 'N4', probs)"
   ]
  },
  {
   "cell_type": "code",
   "execution_count": 8,
   "metadata": {},
   "outputs": [
    {
     "data": {
      "text/plain": [
       "{'B': array([ 0.638,  0.362]),\n",
       " 'C': array([ 0.8,  0.2]),\n",
       " 'D': array([ 0.632232,  0.367768]),\n",
       " 'S': array([ 0.5,  0.5])}"
      ]
     },
     "execution_count": 8,
     "metadata": {},
     "output_type": "execute_result"
    }
   ],
   "source": [
    "probs = {}\n",
    "calculate_probability(test_model2, 'D', probs)\n",
    "probs"
   ]
  },
  {
   "cell_type": "code",
   "execution_count": 9,
   "metadata": {},
   "outputs": [
    {
     "data": {
      "text/plain": [
       "OrderedDict([('S', 2), ('C', 2), ('B', 2), ('D', 2)])"
      ]
     },
     "execution_count": 9,
     "metadata": {},
     "output_type": "execute_result"
    }
   ],
   "source": [
    "find_all_dependencies(test_model2, 'D')"
   ]
  },
  {
   "cell_type": "code",
   "execution_count": 10,
   "metadata": {},
   "outputs": [
    {
     "data": {
      "text/plain": [
       "array([ 0.332  ,  0.068  ,  0.05   ,  0.05   ,  0.     ,  0.     ,\n",
       "        0.     ,  0.     ,  0.16683,  0.03417,  0.0495 ,  0.0495 ,\n",
       "        0.     ,  0.     ,  0.     ,  0.2    ])"
      ]
     },
     "execution_count": 10,
     "metadata": {},
     "output_type": "execute_result"
    }
   ],
   "source": [
    "calculate_joint_probability(test_model2, ['D']).reshape(-1)"
   ]
  }
 ],
 "metadata": {
  "kernelspec": {
   "display_name": "Python [default]",
   "language": "python",
   "name": "python3"
  },
  "language_info": {
   "codemirror_mode": {
    "name": "ipython",
    "version": 3
   },
   "file_extension": ".py",
   "mimetype": "text/x-python",
   "name": "python",
   "nbconvert_exporter": "python",
   "pygments_lexer": "ipython3",
   "version": "3.5.3"
  }
 },
 "nbformat": 4,
 "nbformat_minor": 2
}
