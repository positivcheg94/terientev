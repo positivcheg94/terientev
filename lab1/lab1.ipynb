{
 "cells": [
  {
   "cell_type": "code",
   "execution_count": 27,
   "metadata": {
    "collapsed": true
   },
   "outputs": [],
   "source": [
    "import numpy as np"
   ]
  },
  {
   "cell_type": "code",
   "execution_count": 56,
   "metadata": {},
   "outputs": [],
   "source": [
    "def calculate_probability(data, name, probs):\n",
    "    if name in probs:\n",
    "        return probs\n",
    "    data_for_name = data[name]\n",
    "    dependencies = data_for_name[0]\n",
    "    if len(dependencies) == 0:\n",
    "        probs[name] = data_for_name[2]\n",
    "        return probs\n",
    "    dependencies_probs = []    \n",
    "    for dep in dependencies:\n",
    "        if dep not in probs:\n",
    "            calculate_probability(data, dep, probs)\n",
    "        dependencies_probs.append(probs[dep])\n",
    "    all_length = np.prod([len(dep) for dep in dependencies_probs])\n",
    "    accumulated = np.ones(all_length)\n",
    "    n_repeats = all_length\n",
    "    n_tails = 1\n",
    "    for dep in dependencies_probs:\n",
    "        n_repeats = n_repeats // len(dep)\n",
    "        accumulated = accumulated * np.tile(np.repeat(dep, n_repeats), n_tails)\n",
    "        n_tails = n_tails * len(dep)\n",
    "    probs[name] = accumulated @ data_for_name[2]\n",
    "    return probs"
   ]
  },
  {
   "cell_type": "code",
   "execution_count": 57,
   "metadata": {
    "collapsed": true
   },
   "outputs": [],
   "source": [
    "test_model=\\\n",
    "    {\n",
    "        'N1':[\n",
    "            [],\n",
    "            [None, ['S1', 'S2']],\n",
    "            np.array([0.3,0.7])\n",
    "        ],\n",
    "        'N2':[\n",
    "            ['N1'],\n",
    "            [['S1', 'S2'], ['S1', 'S2']],\n",
    "            np.array([[0.3,0.7], [0.5, 0.5]])\n",
    "        ],\n",
    "        'N3':[\n",
    "            ['N1'],\n",
    "            [['S1', 'S2'], ['S1', 'S2']],\n",
    "            np.array([[0.1,0.9], [0.6, 0.4]])\n",
    "        ],\n",
    "        'N4':[\n",
    "            ['N2', 'N3'],\n",
    "            [['S1', 'S2'],['S1', 'S2'],['S1', 'S2']],\n",
    "            np.array([[0.3,0.7], [0.5, 0.5], [0,1], [0.2, 0.8]])\n",
    "        ]\n",
    "    }"
   ]
  },
  {
   "cell_type": "code",
   "execution_count": 58,
   "metadata": {
    "collapsed": true
   },
   "outputs": [],
   "source": [
    "animals= \\\n",
    "    {\n",
    "        'Animal':[\n",
    "            [],\n",
    "            [None, ['Monkey', 'Penguin', 'Platypus', 'Robin', 'Turtle']],\n",
    "            np.array([0.2, 0.2, 0.2, 0.2, 0.2])\n",
    "        ],\n",
    "        'Environment':[\n",
    "            ['Animal'],\n",
    "            [['Monkey', 'Penguin', 'Platypus', 'Robin', 'Turtle'], ['Air', 'Land', 'Water']],\n",
    "            np.array(\n",
    "                [\n",
    "                    [0, 1, 0],\n",
    "                    [0, 0.5, 0.5],\n",
    "                    [0, 0, 1],\n",
    "                    [0.5, 0.5, 0],\n",
    "                    [0, 0.5, 0.5]\n",
    "                ]\n",
    "            )\n",
    "        ],\n",
    "        'HasShell':\n",
    "        [\n",
    "            ['Animal'],\n",
    "            [['Monkey', 'Penguin', 'Platypus', 'Robin', 'Turtle'], ['True', 'False']],\n",
    "            np.array(\n",
    "                [\n",
    "                    [0, 1],\n",
    "                    [0, 1],\n",
    "                    [0, 1],\n",
    "                    [0, 1],\n",
    "                    [1, 0]\n",
    "                ]\n",
    "            )\n",
    "        ],\n",
    "        'BearsYoungAs':\n",
    "        [\n",
    "            ['Animal'],\n",
    "            [['Monkey', 'Penguin', 'Platypus', 'Robin', 'Turtle'], ['Live', 'Eggs']],\n",
    "            np.array(\n",
    "                [\n",
    "                    [1, 0],\n",
    "                    [0, 1],\n",
    "                    [0, 1],\n",
    "                    [0, 1],\n",
    "                    [0, 1]\n",
    "                ]\n",
    "            )\n",
    "        ],\n",
    "        'Class':\n",
    "        [\n",
    "            ['Animal'],\n",
    "            [['Monkey', 'Penguin', 'Platypus', 'Robin', 'Turtle'], ['Bird', 'Mammal', 'Reptile']],\n",
    "            np.array(\n",
    "                [\n",
    "                    [0, 1, 0],\n",
    "                    [1, 0, 0],\n",
    "                    [0, 1, 0],\n",
    "                    [1, 0, 0],\n",
    "                    [0, 0, 1],\n",
    "                ]\n",
    "            )\n",
    "        ],\n",
    "        'WarmBlooded':\n",
    "        [\n",
    "            ['Class'],\n",
    "            [['Bird', 'Mammal', 'Reptile'], ['True', 'False']],\n",
    "            np.array(\n",
    "                [\n",
    "                    [1, 0],\n",
    "                    [1, 0],\n",
    "                    [0, 1]\n",
    "                ]\n",
    "            )\n",
    "        ],\n",
    "            'BodyCovering':\n",
    "        [\n",
    "            ['Class'],\n",
    "            [['Bird', 'Mammal', 'Reptile'], ['Fur', 'Feathers', 'Scales']],\n",
    "            np.array(\n",
    "                [\n",
    "                    [0, 1, 0],\n",
    "                    [1, 0, 0],\n",
    "                    [0, 0, 1]\n",
    "                ]\n",
    "            )\n",
    "        ]\n",
    "    }"
   ]
  },
  {
   "cell_type": "code",
   "execution_count": 61,
   "metadata": {},
   "outputs": [
    {
     "data": {
      "text/plain": [
       "{'Animal': array([ 0.2,  0.2,  0.2,  0.2,  0.2]),\n",
       " 'BodyCovering': array([ 0.4,  0.4,  0.2]),\n",
       " 'Class': array([ 0.4,  0.4,  0.2]),\n",
       " 'N1': array([ 0.3,  0.7]),\n",
       " 'N2': array([ 0.44,  0.56]),\n",
       " 'N3': array([ 0.45,  0.55]),\n",
       " 'N4': array([ 0.242,  0.758])}"
      ]
     },
     "execution_count": 61,
     "metadata": {},
     "output_type": "execute_result"
    }
   ],
   "source": [
    "calculate_probability(animals, 'BodyCovering')"
   ]
  },
  {
   "cell_type": "code",
   "execution_count": 62,
   "metadata": {},
   "outputs": [
    {
     "data": {
      "text/plain": [
       "{'Animal': array([ 0.2,  0.2,  0.2,  0.2,  0.2]),\n",
       " 'BodyCovering': array([ 0.4,  0.4,  0.2]),\n",
       " 'Class': array([ 0.4,  0.4,  0.2]),\n",
       " 'N1': array([ 0.3,  0.7]),\n",
       " 'N2': array([ 0.44,  0.56]),\n",
       " 'N3': array([ 0.45,  0.55]),\n",
       " 'N4': array([ 0.242,  0.758])}"
      ]
     },
     "execution_count": 62,
     "metadata": {},
     "output_type": "execute_result"
    }
   ],
   "source": [
    "calculate_probability(test_model, 'N4')"
   ]
  },
  {
   "cell_type": "code",
   "execution_count": null,
   "metadata": {
    "collapsed": true
   },
   "outputs": [],
   "source": []
  }
 ],
 "metadata": {
  "kernelspec": {
   "display_name": "Python 3",
   "language": "python",
   "name": "python3"
  },
  "language_info": {
   "codemirror_mode": {
    "name": "ipython",
    "version": 3
   },
   "file_extension": ".py",
   "mimetype": "text/x-python",
   "name": "python",
   "nbconvert_exporter": "python",
   "pygments_lexer": "ipython3",
   "version": "3.6.3"
  }
 },
 "nbformat": 4,
 "nbformat_minor": 2
}
