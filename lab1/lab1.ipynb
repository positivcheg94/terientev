{
 "cells": [
  {
   "cell_type": "code",
   "execution_count": 2,
   "metadata": {
    "collapsed": true
   },
   "outputs": [],
   "source": [
    "import numpy as np"
   ]
  },
  {
   "cell_type": "code",
   "execution_count": 16,
   "metadata": {},
   "outputs": [
    {
     "ename": "SyntaxError",
     "evalue": "invalid syntax (<ipython-input-16-f933349689f9>, line 14)",
     "output_type": "error",
     "traceback": [
      "\u001b[1;36m  File \u001b[1;32m\"<ipython-input-16-f933349689f9>\"\u001b[1;36m, line \u001b[1;32m14\u001b[0m\n\u001b[1;33m    for dep in dependencies_probs\u001b[0m\n\u001b[1;37m                                 ^\u001b[0m\n\u001b[1;31mSyntaxError\u001b[0m\u001b[1;31m:\u001b[0m invalid syntax\n"
     ]
    }
   ],
   "source": [
    "def calculate_probability(data, name, probs = {}):\n",
    "    data_for_name = data[name]\n",
    "    dependencies = data_for_name[0]\n",
    "    print('dependencies', dependencies)\n",
    "    dependencies_probs = []\n",
    "    for dep in dependencies:\n",
    "        if dep not in probs:\n",
    "            calculate_probability(data, dep, probs)\n",
    "        dependencies_probs.add(probs[dep])\n",
    "    all_length = np.multiply([len(dep) for dep in dependencies_probs])\n",
    "    accumulated = np.ones(all_length)\n",
    "    repeats = all_length\n",
    "    tails = 1\n",
    "    for dep in dependencies_probs:\n",
    "        accumulated = accumulated * np."
   ]
  },
  {
   "cell_type": "code",
   "execution_count": 12,
   "metadata": {},
   "outputs": [],
   "source": [
    "animals= \\\n",
    "    {\n",
    "        'Animal':[\n",
    "            (),\n",
    "            [None, ['Monkey', 'Penguin', 'Platypus', 'Robin', 'Turtle']],\n",
    "            np.array([0.2, 0.2, 0.2, 0.2, 0.2])\n",
    "        ],\n",
    "        'Environment':[\n",
    "            ('Animal'),\n",
    "            [['Monkey', 'Penguin', 'Platypus', 'Robin', 'Turtle'], ['Air', 'Land', 'Water']],\n",
    "            np.array(\n",
    "                [\n",
    "                    [0, 1, 0],\n",
    "                    [0, 0.5, 0.5],\n",
    "                    [0, 0, 1],\n",
    "                    [0.5, 0.5, 0],\n",
    "                    [0, 0.5, 0.5]\n",
    "                ]\n",
    "            )\n",
    "        ],\n",
    "        'HasShell':\n",
    "        [\n",
    "            ('Animal'),\n",
    "            [['Monkey', 'Penguin', 'Platypus', 'Robin', 'Turtle'], ['True', 'False']],\n",
    "            np.array(\n",
    "                [\n",
    "                    [0, 1],\n",
    "                    [0, 1],\n",
    "                    [0, 1],\n",
    "                    [0, 1],\n",
    "                    [1, 0]\n",
    "                ]\n",
    "            )\n",
    "        ],\n",
    "        'BearsYoungAs':\n",
    "        [\n",
    "            ('Animal'),\n",
    "            [['Monkey', 'Penguin', 'Platypus', 'Robin', 'Turtle'], ['Live', 'Eggs']],\n",
    "            np.array(\n",
    "                [\n",
    "                    [1, 0],\n",
    "                    [0, 1],\n",
    "                    [0, 1],\n",
    "                    [0, 1],\n",
    "                    [0, 1]\n",
    "                ]\n",
    "            )\n",
    "        ],\n",
    "        'Class':\n",
    "        [\n",
    "            ('Animal'),\n",
    "            [['Monkey', 'Penguin', 'Platypus', 'Robin', 'Turtle'], ['Bird', 'Mammal', 'Reptile']],\n",
    "            np.array(\n",
    "                [\n",
    "                    [0, 1, 0],\n",
    "                    [1, 0, 0],\n",
    "                    [0, 1, 0],\n",
    "                    [1, 0, 0],\n",
    "                    [0, 0, 1],\n",
    "                ]\n",
    "            )\n",
    "        ],\n",
    "        'WarmBlooded':\n",
    "        [\n",
    "            ('Class'),\n",
    "            [['Bird', 'Mammal', 'Reptile'], ['True', 'False']],\n",
    "            np.array(\n",
    "                [\n",
    "                    [1, 0],\n",
    "                    [1, 0],\n",
    "                    [0, 1]\n",
    "                ]\n",
    "            )\n",
    "        ],\n",
    "            'BodyCovering':\n",
    "        [\n",
    "            ('Class'),\n",
    "            [['Bird', 'Mammal', 'Reptile'], ['Fur', 'Feathers', 'Scales']],\n",
    "            np.array(\n",
    "                [\n",
    "                    [0, 1, 0],\n",
    "                    [1, 0, 0],\n",
    "                    [0, 0, 1]\n",
    "                ]\n",
    "            )\n",
    "        ]\n",
    "    }"
   ]
  },
  {
   "cell_type": "code",
   "execution_count": 4,
   "metadata": {
    "collapsed": true
   },
   "outputs": [],
   "source": [
    "x1 = np.array([0.2, 0.2, 0.2, 0.2, 0.2])"
   ]
  },
  {
   "cell_type": "code",
   "execution_count": 5,
   "metadata": {
    "collapsed": true
   },
   "outputs": [],
   "source": [
    "x2 = np.array(\n",
    "                [\n",
    "                    [0, 1, 0],\n",
    "                    [0, 0.5, 0.5],\n",
    "                    [0, 0, 1],\n",
    "                    [0.5, 0.5, 0],\n",
    "                    [0, 0.5, 0.5]\n",
    "                ]\n",
    "            )"
   ]
  },
  {
   "cell_type": "code",
   "execution_count": 9,
   "metadata": {},
   "outputs": [
    {
     "data": {
      "text/plain": [
       "array([[ 0. ,  0. ,  0. ,  0.1,  0. ],\n",
       "       [ 0.2,  0.1,  0. ,  0.1,  0.1],\n",
       "       [ 0. ,  0.1,  0.2,  0. ,  0.1]])"
      ]
     },
     "execution_count": 9,
     "metadata": {},
     "output_type": "execute_result"
    }
   ],
   "source": [
    "x1*x2.T"
   ]
  },
  {
   "cell_type": "code",
   "execution_count": null,
   "metadata": {
    "collapsed": true
   },
   "outputs": [],
   "source": []
  }
 ],
 "metadata": {
  "kernelspec": {
   "display_name": "Python [default]",
   "language": "python",
   "name": "python3"
  }
 },
 "nbformat": 4,
 "nbformat_minor": 2
}
